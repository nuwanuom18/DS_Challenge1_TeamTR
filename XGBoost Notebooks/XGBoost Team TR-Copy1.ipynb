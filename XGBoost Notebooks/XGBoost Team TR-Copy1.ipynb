{
 "cells": [
  {
   "cell_type": "code",
   "execution_count": 2,
   "metadata": {},
   "outputs": [],
   "source": [
    "from sklearn.datasets import load_iris\n",
    "from sklearn.model_selection import train_test_split\n",
    "from sklearn.preprocessing import StandardScaler\n",
    "from sklearn.preprocessing import MinMaxScaler\n",
    "from sklearn.decomposition import PCA\n",
    "from sklearn.pipeline import Pipeline\n",
    "from sklearn.externals import joblib\n",
    "from sklearn.model_selection import GridSearchCV, cross_val_score\n",
    "from sklearn.linear_model import LogisticRegression\n",
    "from sklearn.tree import DecisionTreeClassifier\n",
    "from sklearn.ensemble import RandomForestClassifier\n",
    "from sklearn.neighbors import KNeighborsClassifier\n",
    "import pandas as pd\n",
    "import seaborn as sns\n",
    "sns.set() # if you want to use seaborn themes with matplotlib functions\n",
    "import warnings\n",
    "warnings.filterwarnings('ignore')"
   ]
  },
  {
   "cell_type": "code",
   "execution_count": 76,
   "metadata": {},
   "outputs": [],
   "source": [
    "dataset = pd.read_csv('CSE_DSIntro1_TRAIN.csv')"
   ]
  },
  {
   "cell_type": "code",
   "execution_count": 77,
   "metadata": {},
   "outputs": [],
   "source": [
    "rand_state = 1000"
   ]
  },
  {
   "cell_type": "code",
   "execution_count": 78,
   "metadata": {
    "scrolled": true
   },
   "outputs": [
    {
     "data": {
      "text/html": [
       "<div>\n",
       "<style scoped>\n",
       "    .dataframe tbody tr th:only-of-type {\n",
       "        vertical-align: middle;\n",
       "    }\n",
       "\n",
       "    .dataframe tbody tr th {\n",
       "        vertical-align: top;\n",
       "    }\n",
       "\n",
       "    .dataframe thead th {\n",
       "        text-align: right;\n",
       "    }\n",
       "</style>\n",
       "<table border=\"1\" class=\"dataframe\">\n",
       "  <thead>\n",
       "    <tr style=\"text-align: right;\">\n",
       "      <th></th>\n",
       "      <th>Id</th>\n",
       "      <th>Column_1</th>\n",
       "      <th>Column_2</th>\n",
       "      <th>Column_3</th>\n",
       "      <th>Column_4</th>\n",
       "      <th>Column_5</th>\n",
       "      <th>Column_6</th>\n",
       "      <th>Column_7</th>\n",
       "      <th>Column_8</th>\n",
       "      <th>Column_9</th>\n",
       "      <th>...</th>\n",
       "      <th>Column_69</th>\n",
       "      <th>Column_70</th>\n",
       "      <th>Column_71</th>\n",
       "      <th>Column_72</th>\n",
       "      <th>Column_73</th>\n",
       "      <th>Column_74</th>\n",
       "      <th>Column_75</th>\n",
       "      <th>Column_76</th>\n",
       "      <th>Column_77</th>\n",
       "      <th>Category</th>\n",
       "    </tr>\n",
       "  </thead>\n",
       "  <tbody>\n",
       "    <tr>\n",
       "      <th>0</th>\n",
       "      <td>1</td>\n",
       "      <td>77041.5</td>\n",
       "      <td>44471.03389</td>\n",
       "      <td>88955.41342</td>\n",
       "      <td>1602.4632</td>\n",
       "      <td>1787.3628</td>\n",
       "      <td>1571.6466</td>\n",
       "      <td>1294.2972</td>\n",
       "      <td>1664.0964</td>\n",
       "      <td>1756.5462</td>\n",
       "      <td>...</td>\n",
       "      <td>22</td>\n",
       "      <td>2</td>\n",
       "      <td>2021</td>\n",
       "      <td>11</td>\n",
       "      <td>23</td>\n",
       "      <td>15</td>\n",
       "      <td>22</td>\n",
       "      <td>2</td>\n",
       "      <td>2021</td>\n",
       "      <td>0</td>\n",
       "    </tr>\n",
       "    <tr>\n",
       "      <th>1</th>\n",
       "      <td>2</td>\n",
       "      <td>77120.0</td>\n",
       "      <td>44516.34682</td>\n",
       "      <td>89046.05288</td>\n",
       "      <td>1573.2480</td>\n",
       "      <td>2128.5120</td>\n",
       "      <td>987.1360</td>\n",
       "      <td>956.2880</td>\n",
       "      <td>1511.5520</td>\n",
       "      <td>1388.1600</td>\n",
       "      <td>...</td>\n",
       "      <td>22</td>\n",
       "      <td>2</td>\n",
       "      <td>2021</td>\n",
       "      <td>11</td>\n",
       "      <td>23</td>\n",
       "      <td>15</td>\n",
       "      <td>22</td>\n",
       "      <td>2</td>\n",
       "      <td>2021</td>\n",
       "      <td>0</td>\n",
       "    </tr>\n",
       "    <tr>\n",
       "      <th>2</th>\n",
       "      <td>3</td>\n",
       "      <td>77120.0</td>\n",
       "      <td>44516.34682</td>\n",
       "      <td>89046.05288</td>\n",
       "      <td>1789.1840</td>\n",
       "      <td>1511.5520</td>\n",
       "      <td>1665.7920</td>\n",
       "      <td>1326.4640</td>\n",
       "      <td>1357.3120</td>\n",
       "      <td>1634.9440</td>\n",
       "      <td>...</td>\n",
       "      <td>22</td>\n",
       "      <td>2</td>\n",
       "      <td>2021</td>\n",
       "      <td>11</td>\n",
       "      <td>23</td>\n",
       "      <td>15</td>\n",
       "      <td>22</td>\n",
       "      <td>2</td>\n",
       "      <td>2021</td>\n",
       "      <td>0</td>\n",
       "    </tr>\n",
       "    <tr>\n",
       "      <th>3</th>\n",
       "      <td>4</td>\n",
       "      <td>77117.5</td>\n",
       "      <td>44514.90373</td>\n",
       "      <td>89043.16628</td>\n",
       "      <td>1511.5030</td>\n",
       "      <td>1789.1260</td>\n",
       "      <td>1233.8800</td>\n",
       "      <td>1881.6670</td>\n",
       "      <td>1418.9620</td>\n",
       "      <td>2159.2900</td>\n",
       "      <td>...</td>\n",
       "      <td>22</td>\n",
       "      <td>2</td>\n",
       "      <td>2021</td>\n",
       "      <td>11</td>\n",
       "      <td>23</td>\n",
       "      <td>16</td>\n",
       "      <td>22</td>\n",
       "      <td>2</td>\n",
       "      <td>2021</td>\n",
       "      <td>0</td>\n",
       "    </tr>\n",
       "    <tr>\n",
       "      <th>4</th>\n",
       "      <td>5</td>\n",
       "      <td>77120.0</td>\n",
       "      <td>44516.34682</td>\n",
       "      <td>89046.05288</td>\n",
       "      <td>1974.2720</td>\n",
       "      <td>1696.6400</td>\n",
       "      <td>832.8960</td>\n",
       "      <td>1820.0320</td>\n",
       "      <td>1758.3360</td>\n",
       "      <td>1727.4880</td>\n",
       "      <td>...</td>\n",
       "      <td>22</td>\n",
       "      <td>2</td>\n",
       "      <td>2021</td>\n",
       "      <td>11</td>\n",
       "      <td>23</td>\n",
       "      <td>16</td>\n",
       "      <td>22</td>\n",
       "      <td>2</td>\n",
       "      <td>2021</td>\n",
       "      <td>0</td>\n",
       "    </tr>\n",
       "    <tr>\n",
       "      <th>...</th>\n",
       "      <td>...</td>\n",
       "      <td>...</td>\n",
       "      <td>...</td>\n",
       "      <td>...</td>\n",
       "      <td>...</td>\n",
       "      <td>...</td>\n",
       "      <td>...</td>\n",
       "      <td>...</td>\n",
       "      <td>...</td>\n",
       "      <td>...</td>\n",
       "      <td>...</td>\n",
       "      <td>...</td>\n",
       "      <td>...</td>\n",
       "      <td>...</td>\n",
       "      <td>...</td>\n",
       "      <td>...</td>\n",
       "      <td>...</td>\n",
       "      <td>...</td>\n",
       "      <td>...</td>\n",
       "      <td>...</td>\n",
       "      <td>...</td>\n",
       "    </tr>\n",
       "    <tr>\n",
       "      <th>2495</th>\n",
       "      <td>2496</td>\n",
       "      <td>77117.5</td>\n",
       "      <td>44514.90373</td>\n",
       "      <td>89043.16628</td>\n",
       "      <td>1203.0330</td>\n",
       "      <td>2282.6780</td>\n",
       "      <td>1542.3500</td>\n",
       "      <td>1758.2790</td>\n",
       "      <td>1850.8200</td>\n",
       "      <td>1295.5740</td>\n",
       "      <td>...</td>\n",
       "      <td>22</td>\n",
       "      <td>2</td>\n",
       "      <td>2021</td>\n",
       "      <td>11</td>\n",
       "      <td>42</td>\n",
       "      <td>33</td>\n",
       "      <td>22</td>\n",
       "      <td>2</td>\n",
       "      <td>2021</td>\n",
       "      <td>1</td>\n",
       "    </tr>\n",
       "    <tr>\n",
       "      <th>2496</th>\n",
       "      <td>2497</td>\n",
       "      <td>77120.0</td>\n",
       "      <td>44516.34682</td>\n",
       "      <td>89046.05288</td>\n",
       "      <td>894.5920</td>\n",
       "      <td>1203.0720</td>\n",
       "      <td>1079.6800</td>\n",
       "      <td>1480.7040</td>\n",
       "      <td>1449.8560</td>\n",
       "      <td>1604.0960</td>\n",
       "      <td>...</td>\n",
       "      <td>22</td>\n",
       "      <td>2</td>\n",
       "      <td>2021</td>\n",
       "      <td>11</td>\n",
       "      <td>42</td>\n",
       "      <td>34</td>\n",
       "      <td>22</td>\n",
       "      <td>2</td>\n",
       "      <td>2021</td>\n",
       "      <td>1</td>\n",
       "    </tr>\n",
       "    <tr>\n",
       "      <th>2497</th>\n",
       "      <td>2498</td>\n",
       "      <td>77117.5</td>\n",
       "      <td>44514.90373</td>\n",
       "      <td>89043.16628</td>\n",
       "      <td>1789.1260</td>\n",
       "      <td>1604.0440</td>\n",
       "      <td>1326.4210</td>\n",
       "      <td>1418.9620</td>\n",
       "      <td>1542.3500</td>\n",
       "      <td>1511.5030</td>\n",
       "      <td>...</td>\n",
       "      <td>22</td>\n",
       "      <td>2</td>\n",
       "      <td>2021</td>\n",
       "      <td>11</td>\n",
       "      <td>42</td>\n",
       "      <td>34</td>\n",
       "      <td>22</td>\n",
       "      <td>2</td>\n",
       "      <td>2021</td>\n",
       "      <td>1</td>\n",
       "    </tr>\n",
       "    <tr>\n",
       "      <th>2498</th>\n",
       "      <td>2499</td>\n",
       "      <td>77117.5</td>\n",
       "      <td>44514.90373</td>\n",
       "      <td>89043.16628</td>\n",
       "      <td>1789.1260</td>\n",
       "      <td>524.3990</td>\n",
       "      <td>1511.5030</td>\n",
       "      <td>1357.2680</td>\n",
       "      <td>863.7160</td>\n",
       "      <td>616.9400</td>\n",
       "      <td>...</td>\n",
       "      <td>22</td>\n",
       "      <td>2</td>\n",
       "      <td>2021</td>\n",
       "      <td>11</td>\n",
       "      <td>42</td>\n",
       "      <td>35</td>\n",
       "      <td>22</td>\n",
       "      <td>2</td>\n",
       "      <td>2021</td>\n",
       "      <td>0</td>\n",
       "    </tr>\n",
       "    <tr>\n",
       "      <th>2499</th>\n",
       "      <td>2500</td>\n",
       "      <td>77120.0</td>\n",
       "      <td>44516.34682</td>\n",
       "      <td>89046.05288</td>\n",
       "      <td>1542.4000</td>\n",
       "      <td>1789.1840</td>\n",
       "      <td>1850.8800</td>\n",
       "      <td>1511.5520</td>\n",
       "      <td>1758.3360</td>\n",
       "      <td>1326.4640</td>\n",
       "      <td>...</td>\n",
       "      <td>22</td>\n",
       "      <td>2</td>\n",
       "      <td>2021</td>\n",
       "      <td>11</td>\n",
       "      <td>42</td>\n",
       "      <td>35</td>\n",
       "      <td>22</td>\n",
       "      <td>2</td>\n",
       "      <td>2021</td>\n",
       "      <td>0</td>\n",
       "    </tr>\n",
       "  </tbody>\n",
       "</table>\n",
       "<p>2500 rows × 79 columns</p>\n",
       "</div>"
      ],
      "text/plain": [
       "        Id  Column_1     Column_2     Column_3   Column_4   Column_5  \\\n",
       "0        1   77041.5  44471.03389  88955.41342  1602.4632  1787.3628   \n",
       "1        2   77120.0  44516.34682  89046.05288  1573.2480  2128.5120   \n",
       "2        3   77120.0  44516.34682  89046.05288  1789.1840  1511.5520   \n",
       "3        4   77117.5  44514.90373  89043.16628  1511.5030  1789.1260   \n",
       "4        5   77120.0  44516.34682  89046.05288  1974.2720  1696.6400   \n",
       "...    ...       ...          ...          ...        ...        ...   \n",
       "2495  2496   77117.5  44514.90373  89043.16628  1203.0330  2282.6780   \n",
       "2496  2497   77120.0  44516.34682  89046.05288   894.5920  1203.0720   \n",
       "2497  2498   77117.5  44514.90373  89043.16628  1789.1260  1604.0440   \n",
       "2498  2499   77117.5  44514.90373  89043.16628  1789.1260   524.3990   \n",
       "2499  2500   77120.0  44516.34682  89046.05288  1542.4000  1789.1840   \n",
       "\n",
       "       Column_6   Column_7   Column_8   Column_9  ...  Column_69  Column_70  \\\n",
       "0     1571.6466  1294.2972  1664.0964  1756.5462  ...         22          2   \n",
       "1      987.1360   956.2880  1511.5520  1388.1600  ...         22          2   \n",
       "2     1665.7920  1326.4640  1357.3120  1634.9440  ...         22          2   \n",
       "3     1233.8800  1881.6670  1418.9620  2159.2900  ...         22          2   \n",
       "4      832.8960  1820.0320  1758.3360  1727.4880  ...         22          2   \n",
       "...         ...        ...        ...        ...  ...        ...        ...   \n",
       "2495  1542.3500  1758.2790  1850.8200  1295.5740  ...         22          2   \n",
       "2496  1079.6800  1480.7040  1449.8560  1604.0960  ...         22          2   \n",
       "2497  1326.4210  1418.9620  1542.3500  1511.5030  ...         22          2   \n",
       "2498  1511.5030  1357.2680   863.7160   616.9400  ...         22          2   \n",
       "2499  1850.8800  1511.5520  1758.3360  1326.4640  ...         22          2   \n",
       "\n",
       "      Column_71  Column_72  Column_73  Column_74  Column_75  Column_76  \\\n",
       "0          2021         11         23         15         22          2   \n",
       "1          2021         11         23         15         22          2   \n",
       "2          2021         11         23         15         22          2   \n",
       "3          2021         11         23         16         22          2   \n",
       "4          2021         11         23         16         22          2   \n",
       "...         ...        ...        ...        ...        ...        ...   \n",
       "2495       2021         11         42         33         22          2   \n",
       "2496       2021         11         42         34         22          2   \n",
       "2497       2021         11         42         34         22          2   \n",
       "2498       2021         11         42         35         22          2   \n",
       "2499       2021         11         42         35         22          2   \n",
       "\n",
       "      Column_77  Category  \n",
       "0          2021         0  \n",
       "1          2021         0  \n",
       "2          2021         0  \n",
       "3          2021         0  \n",
       "4          2021         0  \n",
       "...         ...       ...  \n",
       "2495       2021         1  \n",
       "2496       2021         1  \n",
       "2497       2021         1  \n",
       "2498       2021         0  \n",
       "2499       2021         0  \n",
       "\n",
       "[2500 rows x 79 columns]"
      ]
     },
     "execution_count": 78,
     "metadata": {},
     "output_type": "execute_result"
    }
   ],
   "source": [
    "dataset"
   ]
  },
  {
   "cell_type": "code",
   "execution_count": 79,
   "metadata": {
    "scrolled": true
   },
   "outputs": [
    {
     "data": {
      "text/plain": [
       "Id           0.0\n",
       "Column_1     0.0\n",
       "Column_2     0.0\n",
       "Column_3     0.0\n",
       "Column_4     0.0\n",
       "            ... \n",
       "Column_74    0.0\n",
       "Column_75    0.0\n",
       "Column_76    0.0\n",
       "Column_77    0.0\n",
       "Category     0.0\n",
       "Length: 79, dtype: float64"
      ]
     },
     "execution_count": 79,
     "metadata": {},
     "output_type": "execute_result"
    }
   ],
   "source": [
    "dataset.isnull().sum()/len(dataset)"
   ]
  },
  {
   "cell_type": "code",
   "execution_count": 80,
   "metadata": {
    "scrolled": true
   },
   "outputs": [
    {
     "data": {
      "text/plain": [
       "0"
      ]
     },
     "execution_count": 80,
     "metadata": {},
     "output_type": "execute_result"
    }
   ],
   "source": [
    "sum(dataset.duplicated())"
   ]
  },
  {
   "cell_type": "code",
   "execution_count": 81,
   "metadata": {},
   "outputs": [],
   "source": [
    "# dropping the duplicates:\n",
    "dataset.drop_duplicates(inplace=True)"
   ]
  },
  {
   "cell_type": "code",
   "execution_count": 82,
   "metadata": {},
   "outputs": [
    {
     "name": "stdout",
     "output_type": "stream",
     "text": [
      "55 1 Column_55\n",
      "57 1 Column_57\n",
      "66 1 Column_66\n",
      "69 1 Column_69\n",
      "70 1 Column_70\n",
      "71 1 Column_71\n",
      "72 1 Column_72\n",
      "75 1 Column_75\n",
      "76 1 Column_76\n",
      "77 1 Column_77\n"
     ]
    }
   ],
   "source": [
    "unique_values = list(dataset.nunique())\n",
    "for i in range(len(unique_values)):\n",
    "    if unique_values[i] == 1:\n",
    "        print(i, unique_values[i],dataset.columns[i])"
   ]
  },
  {
   "cell_type": "code",
   "execution_count": 83,
   "metadata": {
    "scrolled": true
   },
   "outputs": [
    {
     "name": "stdout",
     "output_type": "stream",
     "text": [
      "find 55\n",
      "find 57\n",
      "find 66\n",
      "find 69\n",
      "find 70\n",
      "find 71\n",
      "find 72\n",
      "find 75\n",
      "find 76\n",
      "find 77\n",
      "        Id  Column_1     Column_2     Column_3   Column_4   Column_5  \\\n",
      "0        1   77041.5  44471.03389  88955.41342  1602.4632  1787.3628   \n",
      "1        2   77120.0  44516.34682  89046.05288  1573.2480  2128.5120   \n",
      "2        3   77120.0  44516.34682  89046.05288  1789.1840  1511.5520   \n",
      "3        4   77117.5  44514.90373  89043.16628  1511.5030  1789.1260   \n",
      "4        5   77120.0  44516.34682  89046.05288  1974.2720  1696.6400   \n",
      "...    ...       ...          ...          ...        ...        ...   \n",
      "2495  2496   77117.5  44514.90373  89043.16628  1203.0330  2282.6780   \n",
      "2496  2497   77120.0  44516.34682  89046.05288   894.5920  1203.0720   \n",
      "2497  2498   77117.5  44514.90373  89043.16628  1789.1260  1604.0440   \n",
      "2498  2499   77117.5  44514.90373  89043.16628  1789.1260   524.3990   \n",
      "2499  2500   77120.0  44516.34682  89046.05288  1542.4000  1789.1840   \n",
      "\n",
      "       Column_6   Column_7   Column_8   Column_9  ...  Column_61    Column_62  \\\n",
      "0     1571.6466  1294.2972  1664.0964  1756.5462  ...   1.511108  63642.86256   \n",
      "1      987.1360   956.2880  1511.5520  1388.1600  ...   1.511097  63649.22304   \n",
      "2     1665.7920  1326.4640  1357.3120  1634.9440  ...   1.511247  63658.20567   \n",
      "3     1233.8800  1881.6670  1418.9620  2159.2900  ...   1.511245  63655.53620   \n",
      "4      832.8960  1820.0320  1758.3360  1727.4880  ...   1.511409  63637.01387   \n",
      "...         ...        ...        ...        ...  ...        ...          ...   \n",
      "2495  1542.3500  1758.2790  1850.8200  1295.5740  ...   1.511090  63689.52068   \n",
      "2496  1079.6800  1480.7040  1449.8560  1604.0960  ...   1.511129  63696.82226   \n",
      "2497  1326.4210  1418.9620  1542.3500  1511.5030  ...   1.511286  63695.04189   \n",
      "2498  1511.5030  1357.2680   863.7160   616.9400  ...   1.511245  63683.13411   \n",
      "2499  1850.8800  1511.5520  1758.3360  1326.4640  ...   1.511552  63697.79604   \n",
      "\n",
      "      Column_63  Column_64  Column_65  Column_67  Column_68  Column_73  \\\n",
      "0      1.527652   0.073507   1.511320         23         15         23   \n",
      "1      1.527373   0.073794   1.511169         23         15         23   \n",
      "2      1.527631   0.073571   1.511256         23         15         23   \n",
      "3      1.527550   0.073430   1.511489         23         16         23   \n",
      "4      1.527490   0.073543   1.511393         23         16         23   \n",
      "...         ...        ...        ...        ...        ...        ...   \n",
      "2495   1.527730   0.073834   1.510860         42         33         42   \n",
      "2496   1.527971   0.073253   1.511402         42         34         42   \n",
      "2497   1.527891   0.073301   1.511400         42         34         42   \n",
      "2498   1.527758   0.073542   1.511201         42         35         42   \n",
      "2499   1.527767   0.073461   1.511293         42         35         42   \n",
      "\n",
      "      Column_74  Category  \n",
      "0            15         0  \n",
      "1            15         0  \n",
      "2            15         0  \n",
      "3            16         0  \n",
      "4            16         0  \n",
      "...         ...       ...  \n",
      "2495         33         1  \n",
      "2496         34         1  \n",
      "2497         34         1  \n",
      "2498         35         0  \n",
      "2499         35         0  \n",
      "\n",
      "[2500 rows x 69 columns]\n"
     ]
    }
   ],
   "source": [
    "unique_values = list(dataset.nunique())\n",
    "k=0\n",
    "for i in range(len(unique_values)):\n",
    "    if unique_values[i] == 1:\n",
    "        print('find', i)\n",
    "        dataset.drop(dataset.columns[i-k], axis=1 ,inplace=True)\n",
    "        k+=1\n",
    "print(dataset)"
   ]
  },
  {
   "cell_type": "code",
   "execution_count": 84,
   "metadata": {
    "scrolled": true
   },
   "outputs": [
    {
     "data": {
      "text/plain": [
       "Index(['Id', 'Column_1', 'Column_2', 'Column_3', 'Column_4', 'Column_5',\n",
       "       'Column_6', 'Column_7', 'Column_8', 'Column_9', 'Column_10',\n",
       "       'Column_11', 'Column_12', 'Column_13', 'Column_14', 'Column_15',\n",
       "       'Column_16', 'Column_17', 'Column_18', 'Column_19', 'Column_20',\n",
       "       'Column_21', 'Column_22', 'Column_23', 'Column_24', 'Column_25',\n",
       "       'Column_26', 'Column_27', 'Column_28', 'Column_29', 'Column_30',\n",
       "       'Column_31', 'Column_32', 'Column_33', 'Column_34', 'Column_35',\n",
       "       'Column_36', 'Column_37', 'Column_38', 'Column_39', 'Column_40',\n",
       "       'Column_41', 'Column_42', 'Column_43', 'Column_44', 'Column_45',\n",
       "       'Column_46', 'Column_47', 'Column_48', 'Column_49', 'Column_50',\n",
       "       'Column_51', 'Column_52', 'Column_53', 'Column_54', 'Column_56',\n",
       "       'Column_58', 'Column_59', 'Column_60', 'Column_61', 'Column_62',\n",
       "       'Column_63', 'Column_64', 'Column_65', 'Column_67', 'Column_68',\n",
       "       'Column_73', 'Column_74', 'Category'],\n",
       "      dtype='object')"
      ]
     },
     "execution_count": 84,
     "metadata": {},
     "output_type": "execute_result"
    }
   ],
   "source": [
    "dataset.columns"
   ]
  },
  {
   "cell_type": "code",
   "execution_count": 85,
   "metadata": {},
   "outputs": [],
   "source": [
    "test_data = pd.read_csv('CSE_DSIntro1_TEST.csv')"
   ]
  },
  {
   "cell_type": "code",
   "execution_count": 86,
   "metadata": {
    "scrolled": true
   },
   "outputs": [
    {
     "name": "stdout",
     "output_type": "stream",
     "text": [
      "55 1 Column_55\n",
      "57 1 Column_57\n",
      "66 1 Column_66\n",
      "69 1 Column_69\n",
      "70 1 Column_70\n",
      "71 1 Column_71\n",
      "72 1 Column_72\n",
      "75 1 Column_75\n",
      "76 1 Column_76\n",
      "77 1 Column_77\n"
     ]
    }
   ],
   "source": [
    "unique_values_test = list(test_data.nunique())\n",
    "for i in range(len(unique_values_test)):\n",
    "    if unique_values_test[i] == 1:\n",
    "        print(i, unique_values_test[i],test_data.columns[i])"
   ]
  },
  {
   "cell_type": "code",
   "execution_count": 87,
   "metadata": {},
   "outputs": [
    {
     "name": "stdout",
     "output_type": "stream",
     "text": [
      "find 55\n",
      "find 57\n",
      "find 66\n",
      "find 69\n",
      "find 70\n",
      "find 71\n",
      "find 72\n",
      "find 75\n",
      "find 76\n",
      "find 77\n",
      "        Id  Column_1     Column_2     Column_3   Column_4   Column_5  \\\n",
      "0        1  77117.50  44514.90373  89043.16628  1696.5850  1665.7380   \n",
      "1        2  77120.00  44516.34682  89046.05288  1357.3120   339.3280   \n",
      "2        3  77120.00  44516.34682  89046.05288  1758.3360  1974.2720   \n",
      "3        4  77120.00  44516.34682  89046.05288  1110.5280  1264.7680   \n",
      "4        5  77120.00  44516.34682  89046.05288  2652.9280  2005.1200   \n",
      "...    ...       ...          ...          ...        ...        ...   \n",
      "1586  1587  77120.00  44516.34682  89046.05288  1789.1840  1881.7280   \n",
      "1587  1588  77117.50  44514.90373  89043.16628  1696.5850  1357.2680   \n",
      "1588  1589  77122.25  44517.64560  89048.65083  1696.6895  1727.5384   \n",
      "1589  1590  77122.25  44517.64560  89048.65083  1449.8983  1789.2362   \n",
      "1590  1591  77122.25  44517.64560  89048.65083  1449.8983  1326.5027   \n",
      "\n",
      "       Column_6   Column_7   Column_8   Column_9  ...  Column_60  Column_61  \\\n",
      "0     1418.9620  1264.7270  1203.0330  1573.1970  ...   0.073235   1.511481   \n",
      "1     1326.4640  1017.9840  1573.2480  1604.0960  ...   0.073413   1.511241   \n",
      "2     1480.7040  1141.3760  1542.4000  1388.1600  ...   0.073253   1.511402   \n",
      "3     1388.1600  1449.8560  1573.2480  1419.0080  ...   0.073415   1.511293   \n",
      "4     1943.4240   493.5680  1388.1600   740.3520  ...   0.073395   1.511170   \n",
      "...         ...        ...        ...        ...  ...        ...        ...   \n",
      "1586  1449.8560  1573.2480  1419.0080  1542.4000  ...   0.073209   1.511755   \n",
      "1587  1727.4320  1542.3500  1295.5740  1449.8090  ...   0.073503   1.511498   \n",
      "1588  1573.2939  1449.8983   246.7912  1480.7472  ...   0.073398   1.511532   \n",
      "1589  1634.9917  1203.1071  1326.5027  1357.3516  ...   0.073327   1.511689   \n",
      "1590  1388.2005   154.2445  1480.7472  1048.8626  ...   0.073095   1.511757   \n",
      "\n",
      "        Column_62  Column_63  Column_64  Column_65  Column_67  Column_68  \\\n",
      "0     63697.96460   1.527815   0.073497   1.511214         42         36   \n",
      "1     63707.62973   1.527853   0.073633   1.511019         42         36   \n",
      "2     63699.33986   1.527973   0.073148   1.511530         42         36   \n",
      "3     63691.57205   1.527999   0.073202   1.511444         42         37   \n",
      "4     63691.78617   1.527921   0.073248   1.511445         42         37   \n",
      "...           ...        ...        ...        ...        ...        ...   \n",
      "1586  63656.58449   1.527551   0.073225   1.511742         56          0   \n",
      "1587  63655.56354   1.527707   0.073006   1.511899         56          0   \n",
      "1588  63659.57645   1.527553   0.073222   1.511745         56          1   \n",
      "1589  63638.76254   1.527492   0.073274   1.511726         56          1   \n",
      "1590  63657.61274   1.527457   0.073445   1.511539         56          2   \n",
      "\n",
      "      Column_73  Column_74  \n",
      "0            42         36  \n",
      "1            42         36  \n",
      "2            42         37  \n",
      "3            42         37  \n",
      "4            42         37  \n",
      "...         ...        ...  \n",
      "1586         56          0  \n",
      "1587         56          0  \n",
      "1588         56          1  \n",
      "1589         56          1  \n",
      "1590         56          2  \n",
      "\n",
      "[1591 rows x 68 columns]\n"
     ]
    }
   ],
   "source": [
    "k_test=0\n",
    "for i in range(len(unique_values_test)):\n",
    "    if unique_values_test[i] == 1:\n",
    "        print('find', i)\n",
    "        test_data.drop(test_data.columns[i-k_test], axis=1 ,inplace=True)\n",
    "        k_test+=1\n",
    "print(test_data)"
   ]
  },
  {
   "cell_type": "code",
   "execution_count": 88,
   "metadata": {},
   "outputs": [
    {
     "data": {
      "text/plain": [
       "Index(['Id', 'Column_1', 'Column_2', 'Column_3', 'Column_4', 'Column_5',\n",
       "       'Column_6', 'Column_7', 'Column_8', 'Column_9', 'Column_10',\n",
       "       'Column_11', 'Column_12', 'Column_13', 'Column_14', 'Column_15',\n",
       "       'Column_16', 'Column_17', 'Column_18', 'Column_19', 'Column_20',\n",
       "       'Column_21', 'Column_22', 'Column_23', 'Column_24', 'Column_25',\n",
       "       'Column_26', 'Column_27', 'Column_28', 'Column_29', 'Column_30',\n",
       "       'Column_31', 'Column_32', 'Column_33', 'Column_34', 'Column_35',\n",
       "       'Column_36', 'Column_37', 'Column_38', 'Column_39', 'Column_40',\n",
       "       'Column_41', 'Column_42', 'Column_43', 'Column_44', 'Column_45',\n",
       "       'Column_46', 'Column_47', 'Column_48', 'Column_49', 'Column_50',\n",
       "       'Column_51', 'Column_52', 'Column_53', 'Column_54', 'Column_56',\n",
       "       'Column_58', 'Column_59', 'Column_60', 'Column_61', 'Column_62',\n",
       "       'Column_63', 'Column_64', 'Column_65', 'Column_67', 'Column_68',\n",
       "       'Column_73', 'Column_74'],\n",
       "      dtype='object')"
      ]
     },
     "execution_count": 88,
     "metadata": {},
     "output_type": "execute_result"
    }
   ],
   "source": [
    "test_data.columns"
   ]
  },
  {
   "cell_type": "code",
   "execution_count": 89,
   "metadata": {},
   "outputs": [],
   "source": [
    "X = dataset.iloc[:, 1:-1].values\n",
    "y = dataset.iloc[:, -1].values"
   ]
  },
  {
   "cell_type": "code",
   "execution_count": 90,
   "metadata": {},
   "outputs": [],
   "source": [
    "X_Sample_Test = test_data.values[:, 1:]"
   ]
  },
  {
   "cell_type": "code",
   "execution_count": 91,
   "metadata": {
    "scrolled": true
   },
   "outputs": [
    {
     "data": {
      "text/plain": [
       "array([[7.71175000e+04, 4.45149037e+04, 8.90431663e+04, ...,\n",
       "        3.60000000e+01, 4.20000000e+01, 3.60000000e+01],\n",
       "       [7.71200000e+04, 4.45163468e+04, 8.90460529e+04, ...,\n",
       "        3.60000000e+01, 4.20000000e+01, 3.60000000e+01],\n",
       "       [7.71200000e+04, 4.45163468e+04, 8.90460529e+04, ...,\n",
       "        3.60000000e+01, 4.20000000e+01, 3.70000000e+01],\n",
       "       ...,\n",
       "       [7.71222500e+04, 4.45176456e+04, 8.90486508e+04, ...,\n",
       "        1.00000000e+00, 5.60000000e+01, 1.00000000e+00],\n",
       "       [7.71222500e+04, 4.45176456e+04, 8.90486508e+04, ...,\n",
       "        1.00000000e+00, 5.60000000e+01, 1.00000000e+00],\n",
       "       [7.71222500e+04, 4.45176456e+04, 8.90486508e+04, ...,\n",
       "        2.00000000e+00, 5.60000000e+01, 2.00000000e+00]])"
      ]
     },
     "execution_count": 91,
     "metadata": {},
     "output_type": "execute_result"
    }
   ],
   "source": [
    "X_Sample_Test"
   ]
  },
  {
   "cell_type": "code",
   "execution_count": 92,
   "metadata": {
    "scrolled": true
   },
   "outputs": [
    {
     "data": {
      "text/plain": [
       "array([[7.70415000e+04, 4.44710339e+04, 8.89554134e+04, ...,\n",
       "        1.50000000e+01, 2.30000000e+01, 1.50000000e+01],\n",
       "       [7.71200000e+04, 4.45163468e+04, 8.90460529e+04, ...,\n",
       "        1.50000000e+01, 2.30000000e+01, 1.50000000e+01],\n",
       "       [7.71200000e+04, 4.45163468e+04, 8.90460529e+04, ...,\n",
       "        1.50000000e+01, 2.30000000e+01, 1.50000000e+01],\n",
       "       ...,\n",
       "       [7.71175000e+04, 4.45149037e+04, 8.90431663e+04, ...,\n",
       "        3.40000000e+01, 4.20000000e+01, 3.40000000e+01],\n",
       "       [7.71175000e+04, 4.45149037e+04, 8.90431663e+04, ...,\n",
       "        3.50000000e+01, 4.20000000e+01, 3.50000000e+01],\n",
       "       [7.71200000e+04, 4.45163468e+04, 8.90460529e+04, ...,\n",
       "        3.50000000e+01, 4.20000000e+01, 3.50000000e+01]])"
      ]
     },
     "execution_count": 92,
     "metadata": {},
     "output_type": "execute_result"
    }
   ],
   "source": [
    "X"
   ]
  },
  {
   "cell_type": "code",
   "execution_count": 94,
   "metadata": {},
   "outputs": [],
   "source": [
    "X_train, X_test, y_train, y_test = train_test_split(X, y, test_size=0.25, random_state = rand_state)"
   ]
  },
  {
   "cell_type": "code",
   "execution_count": 98,
   "metadata": {},
   "outputs": [],
   "source": [
    "from sklearn.ensemble import AdaBoostClassifier, GradientBoostingClassifier"
   ]
  },
  {
   "cell_type": "code",
   "execution_count": 95,
   "metadata": {},
   "outputs": [],
   "source": [
    "from xgboost import XGBClassifier"
   ]
  },
  {
   "cell_type": "markdown",
   "metadata": {},
   "source": [
    "#### Training the models"
   ]
  },
  {
   "cell_type": "code",
   "execution_count": null,
   "metadata": {},
   "outputs": [],
   "source": [
    "pipeline_rf = Pipeline([('scalar3', StandardScaler()), \n",
    "                        ('pca3', PCA()),\n",
    "                         ('rf_classifier', RandomForestClassifier(random_state=rand_state))])"
   ]
  },
  {
   "cell_type": "code",
   "execution_count": null,
   "metadata": {},
   "outputs": [],
   "source": [
    "pipeline_rf = Pipeline([('scalar3', StandardScaler()), \n",
    "                        ('pca3', PCA()),\n",
    "                         ('rf_classifier', AdaBoostClassifier(random_state=rand_state))])"
   ]
  },
  {
   "cell_type": "code",
   "execution_count": null,
   "metadata": {},
   "outputs": [],
   "source": [
    "pipeline_rf = Pipeline([('scalar3', StandardScaler()), \n",
    "                        ('pca3', PCA()),\n",
    "                         ('rf_classifier',GradientBoostingClassifier(random_state=rand_state, learning_rate=0.1, max_depth=6))])"
   ]
  },
  {
   "cell_type": "code",
   "execution_count": null,
   "metadata": {},
   "outputs": [],
   "source": [
    "pipeline_rf = Pipeline([('scalar3', StandardScaler()), \n",
    "                        ('pca3', PCA()),\n",
    "                         ('rf_classifier', XGBClassifier(random_state=rand_state, eta=0.1, max_depth=6))])"
   ]
  },
  {
   "cell_type": "code",
   "execution_count": 96,
   "metadata": {},
   "outputs": [
    {
     "name": "stdout",
     "output_type": "stream",
     "text": [
      "Wall time: 982 ms\n"
     ]
    },
    {
     "data": {
      "text/plain": [
       "RandomForestClassifier(bootstrap=True, ccp_alpha=0.0, class_weight=None,\n",
       "                       criterion='gini', max_depth=None, max_features='auto',\n",
       "                       max_leaf_nodes=None, max_samples=None,\n",
       "                       min_impurity_decrease=0.0, min_impurity_split=None,\n",
       "                       min_samples_leaf=1, min_samples_split=2,\n",
       "                       min_weight_fraction_leaf=0.0, n_estimators=100,\n",
       "                       n_jobs=None, oob_score=False, random_state=1000,\n",
       "                       verbose=0, warm_start=False)"
      ]
     },
     "execution_count": 96,
     "metadata": {},
     "output_type": "execute_result"
    }
   ],
   "source": [
    "%%time \n",
    "# Fitting RF classifier to the Training set\n",
    "RF_classifier = RandomForestClassifier(random_state=rand_state)\n",
    "RF_classifier.fit(X_train, y_train)"
   ]
  },
  {
   "cell_type": "code",
   "execution_count": 99,
   "metadata": {},
   "outputs": [
    {
     "name": "stdout",
     "output_type": "stream",
     "text": [
      "Wall time: 526 ms\n"
     ]
    },
    {
     "data": {
      "text/plain": [
       "AdaBoostClassifier(algorithm='SAMME.R', base_estimator=None, learning_rate=1.0,\n",
       "                   n_estimators=50, random_state=1000)"
      ]
     },
     "execution_count": 99,
     "metadata": {},
     "output_type": "execute_result"
    }
   ],
   "source": [
    "%%time\n",
    "# Fitting AdaBoost classifier to the Training set\n",
    "AdB_classifier = AdaBoostClassifier(random_state=rand_state)\n",
    "AdB_classifier.fit(X_train, y_train)"
   ]
  },
  {
   "cell_type": "code",
   "execution_count": 100,
   "metadata": {},
   "outputs": [
    {
     "name": "stdout",
     "output_type": "stream",
     "text": [
      "Wall time: 4.9 s\n"
     ]
    },
    {
     "data": {
      "text/plain": [
       "GradientBoostingClassifier(ccp_alpha=0.0, criterion='friedman_mse', init=None,\n",
       "                           learning_rate=0.1, loss='deviance', max_depth=6,\n",
       "                           max_features=None, max_leaf_nodes=None,\n",
       "                           min_impurity_decrease=0.0, min_impurity_split=None,\n",
       "                           min_samples_leaf=1, min_samples_split=2,\n",
       "                           min_weight_fraction_leaf=0.0, n_estimators=100,\n",
       "                           n_iter_no_change=None, presort='deprecated',\n",
       "                           random_state=1000, subsample=1.0, tol=0.0001,\n",
       "                           validation_fraction=0.1, verbose=0,\n",
       "                           warm_start=False)"
      ]
     },
     "execution_count": 100,
     "metadata": {},
     "output_type": "execute_result"
    }
   ],
   "source": [
    "%%time\n",
    "# Fitting Gradient Boosting classifier to the Training set\n",
    "GBM_classifier = GradientBoostingClassifier(random_state=rand_state, learning_rate=0.1, max_depth=6)\n",
    "GBM_classifier.fit(X_train, y_train)"
   ]
  },
  {
   "cell_type": "code",
   "execution_count": 101,
   "metadata": {},
   "outputs": [
    {
     "name": "stdout",
     "output_type": "stream",
     "text": [
      "[21:54:10] WARNING: C:/Users/Administrator/workspace/xgboost-win64_release_1.4.0/src/learner.cc:1095: Starting in XGBoost 1.3.0, the default evaluation metric used with the objective 'binary:logistic' was changed from 'error' to 'logloss'. Explicitly set eval_metric if you'd like to restore the old behavior.\n",
      "Wall time: 931 ms\n"
     ]
    },
    {
     "data": {
      "text/plain": [
       "XGBClassifier(base_score=0.5, booster='gbtree', colsample_bylevel=1,\n",
       "              colsample_bynode=1, colsample_bytree=1, eta=0.1, gamma=0,\n",
       "              gpu_id=-1, importance_type='gain', interaction_constraints='',\n",
       "              learning_rate=0.100000001, max_delta_step=0, max_depth=6,\n",
       "              min_child_weight=1, missing=nan, monotone_constraints='()',\n",
       "              n_estimators=100, n_jobs=4, num_parallel_tree=1,\n",
       "              objective='binary:logistic', random_state=1000, reg_alpha=0,\n",
       "              reg_lambda=1, scale_pos_weight=1, subsample=1,\n",
       "              tree_method='exact', use_label_encoder=True,\n",
       "              validate_parameters=1, verbosity=None)"
      ]
     },
     "execution_count": 101,
     "metadata": {},
     "output_type": "execute_result"
    }
   ],
   "source": [
    "%%time\n",
    "# Fitting XGBoost classifier to the Training set\n",
    "XGB_classifier = XGBClassifier(random_state=rand_state, eta=0.1, max_depth=6)\n",
    "XGB_classifier.fit(X_train, y_train)"
   ]
  },
  {
   "cell_type": "code",
   "execution_count": 102,
   "metadata": {},
   "outputs": [],
   "source": [
    "# Predicting the Test set probabilities and classes\n",
    "y_hat_RF       = RF_classifier.predict(X_test)\n",
    "y_hat_AdB      = AdB_classifier.predict(X_test)\n",
    "y_hat_GBM      = GBM_classifier.predict(X_test)\n",
    "y_hat_XGB      = XGB_classifier.predict(X_test)\n"
   ]
  },
  {
   "cell_type": "markdown",
   "metadata": {},
   "source": [
    "---\n",
    "## Evaluating the model performance on test data"
   ]
  },
  {
   "cell_type": "code",
   "execution_count": 103,
   "metadata": {},
   "outputs": [],
   "source": [
    "from sklearn.metrics import accuracy_score, recall_score, precision_score, f1_score\n",
    "from sklearn.metrics import confusion_matrix, classification_report, roc_curve, roc_auc_score"
   ]
  },
  {
   "cell_type": "markdown",
   "metadata": {},
   "source": [
    "### Comparing accuracy and f1scores among the boosters and RF"
   ]
  },
  {
   "cell_type": "code",
   "execution_count": 104,
   "metadata": {
    "scrolled": false
   },
   "outputs": [
    {
     "name": "stdout",
     "output_type": "stream",
     "text": [
      "RF  Accuracy = 0.7104\n",
      "AdB Accuracy = 0.656\n",
      "GBM Accuracy = 0.6944\n",
      "XGB Accuracy = 0.704\n"
     ]
    }
   ],
   "source": [
    "print('RF  Accuracy = {}'.format(accuracy_score(y_test, y_hat_RF)))\n",
    "print('AdB Accuracy = {}'.format(accuracy_score(y_test, y_hat_AdB)))\n",
    "print('GBM Accuracy = {}'.format(accuracy_score(y_test, y_hat_GBM)))\n",
    "print('XGB Accuracy = {}'.format(accuracy_score(y_test, y_hat_XGB)))"
   ]
  },
  {
   "cell_type": "code",
   "execution_count": 105,
   "metadata": {},
   "outputs": [],
   "source": [
    "clfs = [RF_classifier, AdB_classifier, GBM_classifier, XGB_classifier]"
   ]
  },
  {
   "cell_type": "code",
   "execution_count": 106,
   "metadata": {},
   "outputs": [],
   "source": [
    "import csv"
   ]
  },
  {
   "cell_type": "code",
   "execution_count": 107,
   "metadata": {},
   "outputs": [
    {
     "name": "stdout",
     "output_type": "stream",
     "text": [
      "1591\n",
      "1591\n",
      "1591\n",
      "1591\n"
     ]
    }
   ],
   "source": [
    "for i in range(len(clfs)):\n",
    "    predicted_y = clfs[i].predict(X_Sample_Test)\n",
    "    predicted_y = list(predicted_y)\n",
    "    w_list = []\n",
    "    for j in range(len(predicted_y)):\n",
    "        w_list.append({\"Id\":(j+1), \"Category\":predicted_y[j]})\n",
    "    print(len(w_list))\n",
    "    with open('predictions00'+str(i)+'.csv', 'w', encoding='UTF8', newline='') as f:\n",
    "        writer = csv.DictWriter(f, fieldnames=[\"Id\", \"Category\"])\n",
    "        writer.writeheader()\n",
    "        writer.writerows(w_list)"
   ]
  },
  {
   "cell_type": "code",
   "execution_count": null,
   "metadata": {},
   "outputs": [],
   "source": []
  },
  {
   "cell_type": "code",
   "execution_count": null,
   "metadata": {},
   "outputs": [],
   "source": []
  }
 ],
 "metadata": {
  "kernelspec": {
   "display_name": "Python 3.7.6 64-bit ('base')",
   "language": "python",
   "name": "python37664bitbase3d920d87e3644dc8a79788ca4d0afcae"
  },
  "language_info": {
   "codemirror_mode": {
    "name": "ipython",
    "version": 3
   },
   "file_extension": ".py",
   "mimetype": "text/x-python",
   "name": "python",
   "nbconvert_exporter": "python",
   "pygments_lexer": "ipython3",
   "version": "3.7.6"
  }
 },
 "nbformat": 4,
 "nbformat_minor": 4
}
